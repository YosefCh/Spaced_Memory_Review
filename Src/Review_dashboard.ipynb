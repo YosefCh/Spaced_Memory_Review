{
 "cells": [
  {
   "cell_type": "markdown",
   "metadata": {},
   "source": [
    "### **Run this cell *ONLY* to initialize the program for the first time *OR* to reset the program.**  \n",
    "\n",
    "\n"
   ]
  },
  {
   "cell_type": "code",
   "execution_count": 1,
   "metadata": {},
   "outputs": [
    {
     "name": "stdout",
     "output_type": "stream",
     "text": [
      "\n",
      "Running in TESTING MODE. Changes will not affect real data.\n",
      "\n",
      "The program is already set up.\n",
      "There is no need to run this cell each time.\n",
      "If you want to reset the data file, please run the reset_data_file cell at the bottom of this page.\n",
      "            \n"
     ]
    }
   ],
   "source": [
    "from initiate_program import initiate_program\n",
    "initiate_program()\n"
   ]
  },
  {
   "cell_type": "markdown",
   "metadata": {},
   "source": [
    "### __Run this cell to enter new learned material to the program.__\n",
    "\n",
    "Follow the on-screen instructions to enter the new material."
   ]
  },
  {
   "cell_type": "code",
   "execution_count": 2,
   "metadata": {},
   "outputs": [
    {
     "name": "stdout",
     "output_type": "stream",
     "text": [
      "Welcome to the Spaced Memory Review! \n",
      "\n",
      "The following must be submitted:\n",
      "Subject and topic.\n",
      "Text OR an Image\n",
      "Links are optional\n",
      "\n",
      "Press 'Enter' to submit or to skip a field.\n",
      "\n",
      "To quit the program type exit at any time. No material will be submitted if exit is entered.\n",
      "\n"
     ]
    }
   ],
   "source": [
    "from Spaced_Memory_Review import SpacedMemoryReview\n",
    "Learn_and_Review = SpacedMemoryReview()\n",
    "Learn_and_Review.learned_material_to_csv()"
   ]
  },
  {
   "cell_type": "markdown",
   "metadata": {},
   "source": [
    "### __Run this cell to display the review material (including today's material) in your browser.__"
   ]
  },
  {
   "cell_type": "code",
   "execution_count": 3,
   "metadata": {},
   "outputs": [
    {
     "name": "stdout",
     "output_type": "stream",
     "text": [
      "Opening file in Edge: C:\\Users\\Rebecca\\OneDrive\\Documents\\Review\\Data\\Review_Files\\2025-05-07-review.html\n"
     ]
    }
   ],
   "source": [
    "from Spaced_Memory_Review import SpacedMemoryReview\n",
    "Learn_and_Review = SpacedMemoryReview()\n",
    "Learn_and_Review.display_review_material()"
   ]
  },
  {
   "cell_type": "markdown",
   "metadata": {},
   "source": [
    "### Run this cell to reset the program and delete all data used for the review schedule.\n",
    "\n",
    "<strong style=\"color:orange;\">Warning: \n",
    "\n",
    "Resetting will permanently <em style=\"color:red;\">erase</em> all data used for the review schedule. \n",
    "\n",
    "The files containing the material will stil remain in their respective folders.</strong>  \n",
    "\n",
    " Running this cell will *<strong style=\"color:#00A86B;\">not</strong>* automatically reset the program. \n",
    " \n",
    " You will be prompted for confirmation before any data is deleted."
   ]
  },
  {
   "cell_type": "code",
   "execution_count": 3,
   "metadata": {},
   "outputs": [
    {
     "name": "stdout",
     "output_type": "stream",
     "text": [
      "The data file has been reset successfully.\n"
     ]
    }
   ],
   "source": [
    "from initiate_program import reset_data_file\n",
    "reset_data_file()\n"
   ]
  },
  {
   "cell_type": "markdown",
   "metadata": {},
   "source": [
    "\n",
    "### __Reset the Program__\n",
    "---\n",
    "__Note:__ This action will _not_ reset the program automatically — you’ll be prompted to confirm before any data is deleted.\n",
    "\n",
    "\n",
    "  <strong>⚠️ Warning:</strong>\n",
    "  <br><br>\n",
    "  Resetting will permanently <strong style=\"color: red\"><em>erase all data</em></strong> associated with your review schedule<strong style=\"color: red\">*</strong>.\n",
    "  <br>\n",
    "\n",
    "<sub><strong style=\"color: red\">*</strong>The source material files will remain intact in their respective folders.</sub>\n"
   ]
  }
 ],
 "metadata": {
  "kernelspec": {
   "display_name": "Python 3",
   "language": "python",
   "name": "python3"
  },
  "language_info": {
   "codemirror_mode": {
    "name": "ipython",
    "version": 3
   },
   "file_extension": ".py",
   "mimetype": "text/x-python",
   "name": "python",
   "nbconvert_exporter": "python",
   "pygments_lexer": "ipython3",
   "version": "3.11.3"
  }
 },
 "nbformat": 4,
 "nbformat_minor": 2
}
