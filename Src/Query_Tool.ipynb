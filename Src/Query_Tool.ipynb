{
 "cells": [
  {
   "cell_type": "code",
   "execution_count": null,
   "id": "fd15449f",
   "metadata": {},
   "outputs": [],
   "source": [
    "import query_runner\n",
    "\n",
    "# Your SQL query here\n",
    "query = \"\"\"\n",
    "SELECT \n",
    "    COALESCE(Subject, 'Skipped') AS Subject,\n",
    "    COUNT(*) AS count\n",
    "FROM learned_material\n",
    "GROUP BY Subject\n",
    "ORDER BY Count DESC;\n",
    "\"\"\"\n",
    "\n",
    "query_runner.run_query(query)\n"
   ]
  },
  {
   "cell_type": "code",
   "execution_count": null,
   "id": "65386bd2",
   "metadata": {},
   "outputs": [],
   "source": [
    "import query_runner\n",
    "\n",
    "query = \"\"\"SELECT \n",
    "    date, subject, topic\n",
    "FROM learned_material\n",
    "where subject is not null\n",
    "order by subject;\"\"\" \n",
    "query_runner.run_query(query)"
   ]
  },
  {
   "cell_type": "code",
   "execution_count": 1,
   "id": "009dfd78",
   "metadata": {},
   "outputs": [
    {
     "data": {
      "text/html": [
       "\n",
       "        <style>\n",
       "        #query_results {\n",
       "            max-height: 400px;\n",
       "            overflow-y: auto;\n",
       "            border: 1px solid rgb(110, 140, 210);\n",
       "            font-family: monospace;\n",
       "            background-color: rgb(220, 230, 220);\n",
       "            color: black;\n",
       "        }\n",
       "        #query_results th {\n",
       "            background-color: rgb(100, 100, 100);\n",
       "            color: white;\n",
       "            position: sticky;\n",
       "            top: 0;\n",
       "            z-index: 10;\n",
       "            font-weight: bold;\n",
       "        }\n",
       "        #query_results td, #query_results th {\n",
       "            padding: 8px;\n",
       "            text-align: left;\n",
       "            border-bottom: 1px solid var(--jp-border-color2, #ccc);\n",
       "        }\n",
       "        \n",
       "        #query_results tr:nth-child(even) {\n",
       "            background-color: rgb(220, 255, 255);\n",
       "        }\n",
       "        </style>\n",
       "        <div>\n",
       "        <h4>Query Results (3 rows)</h4>\n",
       "        <table border=\"1\" class=\"dataframe\" id=\"query_results\">\n",
       "  <thead>\n",
       "    <tr style=\"text-align: right;\">\n",
       "      <th></th>\n",
       "      <th>FilePath</th>\n",
       "    </tr>\n",
       "  </thead>\n",
       "  <tbody>\n",
       "    <tr>\n",
       "      <th>0</th>\n",
       "      <td>C:/Users/Rebecca/OneDrive/Documents/Review/Data/Single_Day_Files//Git_Create_Repo.html</td>\n",
       "    </tr>\n",
       "    <tr>\n",
       "      <th>1</th>\n",
       "      <td>C:/Users/Rebecca/OneDrive/Documents/Review/Data/Single_Day_Files//Git_New_Branch.html</td>\n",
       "    </tr>\n",
       "    <tr>\n",
       "      <th>2</th>\n",
       "      <td>C:/Users/Rebecca/OneDrive/Documents/Review/Data/Single_Day_Files//Git_Commit_Push.html</td>\n",
       "    </tr>\n",
       "  </tbody>\n",
       "</table>\n",
       "        </div>\n",
       "        "
      ],
      "text/plain": [
       "<IPython.core.display.HTML object>"
      ]
     },
     "metadata": {},
     "output_type": "display_data"
    }
   ],
   "source": [
    "import query_runner\n",
    "\n",
    "query = \"\"\"SELECT \n",
    "    Filepath\n",
    "FROM learned_material\n",
    "where subject ilike '%git%'\n",
    ";\"\"\" \n",
    "query_runner.run_query(query)"
   ]
  }
 ],
 "metadata": {
  "kernelspec": {
   "display_name": "Python 3",
   "language": "python",
   "name": "python3"
  },
  "language_info": {
   "codemirror_mode": {
    "name": "ipython",
    "version": 3
   },
   "file_extension": ".py",
   "mimetype": "text/x-python",
   "name": "python",
   "nbconvert_exporter": "python",
   "pygments_lexer": "ipython3",
   "version": "3.11.3"
  }
 },
 "nbformat": 4,
 "nbformat_minor": 5
}
