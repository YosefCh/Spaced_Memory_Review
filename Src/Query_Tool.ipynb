{
 "cells": [
  {
   "cell_type": "markdown",
   "id": "fd15449f",
   "metadata": {},
   "source": [
    "## 📊 __Learning Material Query Tool__\n",
    "\n",
    "<details>\n",
    "<summary>Expand for Instructions</summary>\n",
    "\n",
    "This notebook provides three ways to query your learning material database:\n",
    "\n",
    "1. **📝 Write Your Own Query** - Write custom SQL queries\n",
    "2. **🤖 AI Natural Language Converter** - Convert natural language to SQL\n",
    "3. **⚡ Pre-written Standard Queries** - Use common predefined queries\n",
    "\n",
    "\n",
    "\n",
    "## 💡 Tips & Notes\n",
    "\n",
    "- **Database Schema**: The `learned_material` table contains your daily learning records\n",
    "- **Date Format**: Dates are stored in YYYY-MM-DD format \n",
    "- **Null Values**: Missing subjects/topics indicate skipped learning days\n",
    "- **File Paths**: Point to your HTML review files when learning occurred\n",
    "\n",
    "\n",
    "**Need help?** \n",
    "- Use the AI converter for complex questions in plain English\n",
    "- Start with standard queries to explore your data\n",
    "- Write custom SQL for specific analysis needs\n",
    "\n",
    "</details>\n"
   ]
  },
  {
   "cell_type": "markdown",
   "id": "139a0ef6",
   "metadata": {},
   "source": [
    "<hr style=\"height:5px;border-width:0;background-color:green;\">\n",
    "\n",
    "### 📝 __Option 1: Write Your Own SQL Query__\n",
    "\n",
    "<details>\n",
    "<summary>Expand for Instructions</summary>\n",
    "\n",
    "Use this section to write and execute custom SQL queries against your `learned_material` table.\n",
    "\n",
    "**Available columns:**\n",
    "- `Index` - Day number\n",
    "- `Date` - Date of learning session  \n",
    "- `Subject` - Subject studied (can be NULL for skipped days)\n",
    "- `Topic` - Topic studied (can be NULL for skipped days)\n",
    "- `FilePath` - Path to review file (NULL for skipped days)\n",
    "\n",
    "**Example queries:**\n",
    "- `SELECT * FROM learned_material LIMIT 10;`\n",
    "- `SELECT Subject, COUNT(*) FROM learned_material GROUP BY Subject;`\n",
    "- `SELECT * FROM learned_material WHERE Date >= '2025-05-01';`\n",
    "\n",
    "</details>"
   ]
  },
  {
   "cell_type": "code",
   "execution_count": null,
   "id": "9d189d7a",
   "metadata": {},
   "outputs": [],
   "source": [
    "import query_runner\n",
    "\n",
    "# Your SQL query here\n",
    "query = \"\"\"\n",
    "SELECT subject, topic, filepath FROM learned_material \n",
    "where subject ilike '%git%';\n",
    "        \"\"\"\n",
    "\n",
    "query_runner.run_query(query)"
   ]
  },
  {
   "cell_type": "markdown",
   "id": "7f471cbf",
   "metadata": {},
   "source": [
    "<hr style=\"height:5px;border-width:0;background-color:green;\">\n",
    "\n",
    "### 🤖 __Option 2: AI Natural Language Converter__\n",
    "\n",
    "<details>\n",
    "<summary>Expand for Instructions</summary>\n",
    "\n",
    "Convert natural language questions into SQL queries using AI. Simply describe what you want to find in plain English.\n",
    "\n",
    "**Examples:**\n",
    "- \"Show me all subjects I studied in May 2025\"\n",
    "- \"What topics did I learn about programming?\"\n",
    "- \"Get the dates when I skipped learning\"\n",
    "\n",
    "</details>"
   ]
  },
  {
   "cell_type": "code",
   "execution_count": null,
   "id": "c6422bf2",
   "metadata": {},
   "outputs": [],
   "source": [
    "# Have AI convert natural language to a SQL query\n",
    "from AI_text_to_query_converter import natural_language_to_query\n",
    "\n",
    "question = input(\"Enter your question: \")\n",
    "natural_language_to_query(question)"
   ]
  },
  {
   "cell_type": "markdown",
   "id": "e69d08fe",
   "metadata": {},
   "source": [
    "<hr style=\"height:5px;border-width:0;background-color:green;\">\n",
    "\n",
    "## ⚡ __Option 3: Pre-written Standard Queries__\n",
    "\n",
    "<details>\n",
    "<summary>Expand for Instructions</summary>\n",
    "\n",
    "Use these common predefined queries for quick insights into your learning data.\n",
    "\n",
    "**Available standard queries:**\n",
    "- `all_data()` - Get all learning records\n",
    "- `count_subjects()` - Count entries by subject\n",
    "- `count_topics()` - Count entries by topic  \n",
    "- `skipped_days()` - Show days when learning was skipped\n",
    "- `unique_subjects()` - List all unique subjects\n",
    "- `unique_topics()` - List all unique topics\n",
    "- `learning_streak()` - Find your longest learning streak\n",
    "- `total_learning_days()` - Count total days of learning\n",
    "\n",
    "Simply import the function and run it:\n",
    "\n",
    "<details>"
   ]
  },
  {
   "cell_type": "code",
   "execution_count": null,
   "id": "65386bd2",
   "metadata": {},
   "outputs": [],
   "source": [
    "# Example: Running a standard query\n",
    "import query_runner\n",
    "from standard_queries import learning_streak\n",
    "\n",
    "# Run the learning streak query\n",
    "query_runner.run_query(learning_streak())"
   ]
  },
  {
   "cell_type": "code",
   "execution_count": null,
   "id": "4de614ad",
   "metadata": {},
   "outputs": [],
   "source": [
    "# Example: Try different standard queries\n",
    "import query_runner\n",
    "from standard_queries import count_subjects, unique_topics, total_learning_days\n",
    "\n",
    "# Count subjects\n",
    "print(\"📚 Subject Count:\")\n",
    "query_runner.run_query(count_subjects())"
   ]
  }
 ],
 "metadata": {
  "kernelspec": {
   "display_name": "Python 3",
   "language": "python",
   "name": "python3"
  },
  "language_info": {
   "codemirror_mode": {
    "name": "ipython",
    "version": 3
   },
   "file_extension": ".py",
   "mimetype": "text/x-python",
   "name": "python",
   "nbconvert_exporter": "python",
   "pygments_lexer": "ipython3",
   "version": "3.10.7"
  }
 },
 "nbformat": 4,
 "nbformat_minor": 5
}
