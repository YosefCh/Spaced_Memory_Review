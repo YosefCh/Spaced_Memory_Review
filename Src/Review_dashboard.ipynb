{
 "cells": [
  {
   "cell_type": "markdown",
   "metadata": {},
   "source": [
    "<div style=\"border: 2px solid rgb(80, 216, 136); padding: 10px; border-radius: 8px; background-color:rgb(27, 89, 73); font-weight: bold; font-size: 16px;\">\n",
    "⚠️ <span style=\"color:rgb(235, 69, 51);\"><strong>Important for GitHub Viewers:</strong></span><br><br>\n",
    "This notebook includes collapsible sections that may not render correctly on GitHub.<br>\n",
    "For full functionality, clone the repo and open the notebook locally in VSCode or Jupyter.\n",
    "</div>\n"
   ]
  },
  {
   "cell_type": "markdown",
   "metadata": {},
   "source": [
    "<hr style=\"height:5px;border-width:0;background-color:green;\">\n",
    "\n",
    "### 🚀 **Run this cell to kickstart the program for the first time!**\n",
    "Once initialized, there's no need to run this cell again. \n",
    "##### Get ready to say __*Goodbye*__ to forgetting!\n"
   ]
  },
  {
   "cell_type": "code",
   "execution_count": null,
   "metadata": {},
   "outputs": [],
   "source": [
    "from initiate_program import initiate_program\n",
    "initiate_program()\n"
   ]
  },
  {
   "cell_type": "markdown",
   "metadata": {},
   "source": [
    "<hr style=\"height:5px;border-width:0;background-color:green;\">\n",
    "\n",
    "### 📘 **Manual Mode: Submit Your Own Learning Material**\n",
    "\n",
    "<details>\n",
    "<summary>Click to expand instructions</summary>\n",
    "\n",
    "Please follow the instructions below to submit your own content:\n",
    "\n",
    "#### ✅ Required Fields:\n",
    "- The **subject** _and_ **topic**\n",
    "- Either:\n",
    "  - **Text**, _or_\n",
    "  - An **image**<span style=\"color: gold\">__*__</span>\n",
    "#### 🔗 Optional:\n",
    "- You may include **links**, but they are not required.\n",
    "\n",
    "---\n",
    "\n",
    "**➡️ Press `Enter`** to submit a field or skip it <span style=\"color: gold\">__**__</span>.  \n",
    "**❌ Type `exit`** at any time to quit the program.  \n",
    "_No material will be submitted if `exit` is entered._\n",
    "\n",
    "---\n",
    "\n",
    "<span style=\"color: gold\">__*__</span> <sub>Images must be submitted as a **screenshot**, taken using your operating system's screenshot tool. The program will automatically locate the most recent image in your screenshots folder.</sub>\n",
    "\n",
    "<span style=\"color: gold\">__**__</span> <sub>Depending on the interface, the __*on-screen-instructions*__ for submitting material are either in the bar at the top of the page (VSC) or underneath the cell (Google Colab).</sub>\n",
    "\n",
    "</details>\n",
    "\n"
   ]
  },
  {
   "cell_type": "code",
   "execution_count": 3,
   "metadata": {},
   "outputs": [],
   "source": [
    "from Spaced_Memory_Review import SpacedMemoryReview\n",
    "Learn_and_Review = SpacedMemoryReview()\n",
    "Learn_and_Review.learned_material_to_csv()"
   ]
  },
  {
   "cell_type": "markdown",
   "metadata": {},
   "source": [
    "<hr style=\"height:5px;border-width:0;background-color:blue;\">\n",
    "\n",
    "### 🤖 **AI Mode: Generate and Submit Learning Material**\n",
    "\n",
    "<details>\n",
    "<summary>Click to expand instructions</summary>\n",
    "\n",
    "This cell uses AI to generate learning material automatically without manual input.\n",
    "\n",
    "#### How it works:\n",
    "1. **Choose your AI option**:\n",
    "   - **Option 1**: Choose your own topic to learn\n",
    "   - **Option 2**: Get AI recommendations based on your learning history  \n",
    "   - **Option 3**: Choose from database topics _(coming soon)_\n",
    "\n",
    "2. **AI generates content**: The system creates subject, topic, and learning material\n",
    "3. **Auto-saves**: Content is automatically saved to your review schedule\n",
    "\n",
    "#### Benefits:\n",
    "- No manual typing required\n",
    "- AI creates educational content tailored to your level\n",
    "- Recommendations based on your past learning patterns\n",
    "- Perfect for busy days when you want to learn but don't have specific topics in mind\n",
    "\n",
    "</details>"
   ]
  },
  {
   "cell_type": "code",
   "execution_count": 2,
   "metadata": {},
   "outputs": [
    {
     "data": {
      "text/markdown": [
       "generating content..."
      ],
      "text/plain": [
       "<IPython.core.display.Markdown object>"
      ]
     },
     "metadata": {},
     "output_type": "display_data"
    }
   ],
   "source": [
    "from Spaced_Memory_Review import SpacedMemoryReview\n",
    "Learn_and_Review = SpacedMemoryReview()\n",
    "Learn_and_Review.learned_material_to_csv(ai_mode=True)"
   ]
  },
  {
   "cell_type": "markdown",
   "metadata": {},
   "source": [
    "<hr style=\"height:5px;border-width:0;background-color:green;\">\n",
    "\n",
    "### 📘 **Instructions for Viewing Your Daily Review Material**\n",
    "\n",
    "<details>\n",
    "<summary>Click to expand instructions</summary>\n",
    "\n",
    "\n",
    "Simply run this cell to open your review material as an HTML file in your browser.\n",
    "\n",
    "_👉 Even on days when no new material is submitted, you should still run this cell to view your existing review content. It works independently of the previous cell used for entering new material._\n",
    "</details>"
   ]
  },
  {
   "cell_type": "code",
   "execution_count": 3,
   "metadata": {},
   "outputs": [
    {
     "name": "stdout",
     "output_type": "stream",
     "text": [
      "\n",
      "Opening file in Edge: C:\\Users\\Rebecca\\OneDrive\\Documents\\Review\\Data\\Review_Files\\2025-07-02-review.html\n"
     ]
    }
   ],
   "source": [
    "from Spaced_Memory_Review import SpacedMemoryReview\n",
    "Learn_and_Review = SpacedMemoryReview()\n",
    "Learn_and_Review.display_review_material()"
   ]
  },
  {
   "cell_type": "markdown",
   "metadata": {},
   "source": [
    "<hr style=\"height:5px;border-width:0;background-color:green;\">\n",
    "\n",
    "### <span style=\"color:red\">__Reset the Program__</span>\n",
    "\n",
    "<details>\n",
    "<summary>Click to expand instructions</summary>\n",
    "\n",
    "---\n",
    "__Note:__ This action will <span style=\"color: rgb(70,220,110)\">__*not*__</span> reset the program automatically — you’ll be prompted to confirm before any data is deleted.\n",
    "\n",
    "\n",
    "  <strong>⚠️ Warning:</strong>\n",
    "  <br><br>\n",
    "  Resetting will permanently <strong style=\"color: red\"><em>erase all data</em></strong> associated with your review schedule<strong style=\"color: red\">*</strong>.\n",
    "  <br>\n",
    "\n",
    "<sub><strong style=\"color: red\">*</strong>*__Only__* your __*reveiw schedule*__ will be reset, the material stored in HTML files will remain intact.</sub>\n",
    "</details>"
   ]
  },
  {
   "cell_type": "code",
   "execution_count": null,
   "metadata": {},
   "outputs": [],
   "source": [
    "from initiate_program import reset_data_file\n",
    "reset_data_file()"
   ]
  }
 ],
 "metadata": {
  "kernelspec": {
   "display_name": "Python 3",
   "language": "python",
   "name": "python3"
  },
  "language_info": {
   "codemirror_mode": {
    "name": "ipython",
    "version": 3
   },
   "file_extension": ".py",
   "mimetype": "text/x-python",
   "name": "python",
   "nbconvert_exporter": "python",
   "pygments_lexer": "ipython3",
   "version": "3.11.3"
  }
 },
 "nbformat": 4,
 "nbformat_minor": 2
}
