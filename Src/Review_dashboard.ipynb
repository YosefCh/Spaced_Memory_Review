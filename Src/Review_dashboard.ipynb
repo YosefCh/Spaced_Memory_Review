{
 "cells": [
  {
   "cell_type": "markdown",
   "metadata": {},
   "source": [
    "<hr style=\"height:5px;border-width:0;background-color:green;\">\n",
    "\n",
    "### 🚀 **Run this cell to kickstart the program for the first time!**\n",
    "Once initialized, there's no need to run this cell again. \n",
    "##### Get ready to say __*Goodbye*__ to forgetting!\n"
   ]
  },
  {
   "cell_type": "code",
   "execution_count": null,
   "metadata": {},
   "outputs": [],
   "source": [
    "from initiate_program import initiate_program\n",
    "initiate_program()\n"
   ]
  },
  {
   "cell_type": "markdown",
   "metadata": {},
   "source": [
    "<hr style=\"height:5px;border-width:0;background-color:green;\">\n",
    "\n",
    "### 📘 **Instructions for Submitting Learned Material**\n",
    "\n",
    " \n",
    "Please follow the instructions below to submit your content:\n",
    "\n",
    "#### ✅ Required Fields:\n",
    "- The **subject** _and_ **topic**\n",
    "- Either:\n",
    "  - **Text**, _or_\n",
    "  - An **image**<span style=\"color: gold\">__*__</span>\n",
    "#### 🔗 Optional:\n",
    "- You may include **links**, but they are not required.\n",
    "\n",
    "---\n",
    "\n",
    "**➡️ Press `Enter`** to submit a field or skip it <span style=\"color: gold\">__**__</span>.  \n",
    "**❌ Type `exit`** at any time to quit the program.  \n",
    "_No material will be submitted if `exit` is entered._\n",
    "\n",
    "---\n",
    "\n",
    "<span style=\"color: gold\">__*__</span> <sub>Images must be submitted as a **screenshot**, taken using your operating system’s screenshot tool. The program will automatically locate the most recent image in your screenshots folder.</sub>\n",
    "\n",
    "<span style=\"color: gold\">__**__</span> <sub>Depending on the interface, the __*on-screen-instructions*__ for submitting material are either in the bar at the top of the page (VSC) or underneath the cell (Google Colab).</sub>\n"
   ]
  },
  {
   "cell_type": "code",
   "execution_count": 1,
   "metadata": {},
   "outputs": [],
   "source": [
    "from Spaced_Memory_Review import SpacedMemoryReview\n",
    "Learn_and_Review = SpacedMemoryReview()\n",
    "Learn_and_Review.learned_material_to_csv()"
   ]
  },
  {
   "cell_type": "markdown",
   "metadata": {},
   "source": [
    "<hr style=\"height:5px;border-width:0;background-color:green;\">\n",
    "\n",
    "### 📘 **Instructions for Viewing Your Daily Review Material**\n",
    "\n",
    "Simply run this cell to open your review material as an HTML file in your browser.\n",
    "\n",
    "_👉 Even on days when no new material is submitted, you should still run this cell to view your existing review content. It works independently of the previous cell used for entering new material._\n"
   ]
  },
  {
   "cell_type": "code",
   "execution_count": 1,
   "metadata": {},
   "outputs": [
    {
     "name": "stdout",
     "output_type": "stream",
     "text": [
      "Opening file in Edge: C:\\Users\\Rebecca\\OneDrive\\Documents\\Review\\Data\\Review_Files\\2025-05-23-review.html\n"
     ]
    }
   ],
   "source": [
    "from Spaced_Memory_Review import SpacedMemoryReview\n",
    "Learn_and_Review = SpacedMemoryReview()\n",
    "Learn_and_Review.display_review_material()"
   ]
  },
  {
   "cell_type": "markdown",
   "metadata": {},
   "source": [
    "<hr style=\"height:5px;border-width:0;background-color:green;\">\n",
    "\n",
    "### __Reset the Program__\n",
    "---\n",
    "__Note:__ This action will <span style=\"color: rgb(70,220,110)\">__*not*__</span> reset the program automatically — you’ll be prompted to confirm before any data is deleted.\n",
    "\n",
    "\n",
    "  <strong>⚠️ Warning:</strong>\n",
    "  <br><br>\n",
    "  Resetting will permanently <strong style=\"color: red\"><em>erase all data</em></strong> associated with your review schedule<strong style=\"color: red\">*</strong>.\n",
    "  <br>\n",
    "\n",
    "<sub><strong style=\"color: red\">*</strong>*__Only__* your __*reveiw schedule*__ will be reset, the material stored in HTML files will remain intact.</sub>\n"
   ]
  },
  {
   "cell_type": "code",
   "execution_count": null,
   "metadata": {},
   "outputs": [],
   "source": [
    "from initiate_program import reset_data_file\n",
    "reset_data_file()"
   ]
  }
 ],
 "metadata": {
  "kernelspec": {
   "display_name": "Python 3",
   "language": "python",
   "name": "python3"
  },
  "language_info": {
   "codemirror_mode": {
    "name": "ipython",
    "version": 3
   },
   "file_extension": ".py",
   "mimetype": "text/x-python",
   "name": "python",
   "nbconvert_exporter": "python",
   "pygments_lexer": "ipython3",
   "version": "3.11.3"
  }
 },
 "nbformat": 4,
 "nbformat_minor": 2
}
